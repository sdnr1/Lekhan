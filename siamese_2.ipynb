{
 "cells": [
  {
   "cell_type": "code",
   "execution_count": 1,
   "metadata": {},
   "outputs": [
    {
     "name": "stderr",
     "output_type": "stream",
     "text": [
      "Using TensorFlow backend.\n"
     ]
    }
   ],
   "source": [
    "import numpy as np\n",
    "from keras.models import Model\n",
    "from keras.layers import Activation, Dense, Conv2D, MaxPooling2D, Flatten, Dropout, Lambda, Input, Concatenate, Multiply, Subtract\n",
    "from keras.regularizers import l2\n",
    "from keras.utils import np_utils\n",
    "from matplotlib import pyplot as plt\n",
    "\n",
    "%matplotlib inline"
   ]
  },
  {
   "cell_type": "code",
   "execution_count": 2,
   "metadata": {
    "collapsed": true
   },
   "outputs": [],
   "source": [
    "num_classes = 4\n",
    "img_size = 250\n",
    "img_size_final = 64"
   ]
  },
  {
   "cell_type": "code",
   "execution_count": 3,
   "metadata": {
    "collapsed": true
   },
   "outputs": [],
   "source": [
    "def load_data():\n",
    "    \n",
    "    X = np.load('Lekhan/X_train.npy')\n",
    "    Y = np.load('Lekhan/Y_train.npy')\n",
    "    x = np.load('Lekhan/X_test.npy')\n",
    "    y = np.load('Lekhan/Y_test.npy')\n",
    "    X = X.reshape(X.shape[0], img_size, img_size, 1).astype('float32')\n",
    "    x = x.reshape(x.shape[0], img_size, img_size, 1).astype('float32')\n",
    "    X_mean = X.mean()\n",
    "    X = (X - X_mean) / 127\n",
    "    x = (x - X_mean) / 127\n",
    "    Y = np_utils.to_categorical(Y, num_classes)\n",
    "    y = np_utils.to_categorical(y, num_classes)\n",
    "    X = X[:, :img_size_final, :img_size_final, :]\n",
    "    x = x[:, :img_size_final, :img_size_final, :]\n",
    "    return (X, Y), (x, y)"
   ]
  },
  {
   "cell_type": "code",
   "execution_count": 4,
   "metadata": {
    "collapsed": true
   },
   "outputs": [],
   "source": [
    "def make_pairs(X, Y):\n",
    "\n",
    "    rx = []\n",
    "    ry = []\n",
    "    p = [[], [], [], []]\n",
    "    for c in range(num_classes):\n",
    "        for i in range(X.shape[0]):\n",
    "            if Y[i][c] == 1:\n",
    "                p[c].append(X[i])\n",
    "        a = np.array(p[c] + p[c])\n",
    "        b = a[np.random.permutation(range(a.shape[0]))]\n",
    "        for i in range(a.shape[0]):\n",
    "            rx.append([a[i], b[i]])\n",
    "            ry.append([0, 1])\n",
    "    sz = (2 * len(ry)) // (num_classes * (num_classes - 1))\n",
    "    for i in range(num_classes):\n",
    "        for j in range(i):\n",
    "            a = np.array(p[i] + p[i])\n",
    "            a = a[np.random.permutation(range(a.shape[0]))]\n",
    "            b = np.array(p[j] + p[j])\n",
    "            b = b[np.random.permutation(range(b.shape[0]))]\n",
    "            for k in range(sz):\n",
    "                rx.append([a[k], b[k]])\n",
    "                ry.append([1, 0])\n",
    "    return np.array(rx), np.array(ry)"
   ]
  },
  {
   "cell_type": "code",
   "execution_count": 5,
   "metadata": {
    "collapsed": true
   },
   "outputs": [],
   "source": [
    "def split_input(inputs):\n",
    "\n",
    "    output1 = Lambda(lambda x : x[:, 0, :, :, :])(inputs)\n",
    "    output2 = Lambda(lambda x : x[:, 1, :, :, :])(inputs)\n",
    "    return output1, output2"
   ]
  },
  {
   "cell_type": "code",
   "execution_count": 6,
   "metadata": {
    "collapsed": true
   },
   "outputs": [],
   "source": [
    "conv1_1 = Conv2D(32, (3, 3), activation='relu', padding='same')\n",
    "conv1_2 = Conv2D(32, (3, 3), activation='relu', padding='same')\n",
    "drop1 = Dropout(0.25)\n",
    "pool1 = MaxPooling2D(pool_size=(2, 2))\n",
    "conv2_1 = Conv2D(64, (3, 3), activation='relu', padding='same')\n",
    "conv2_2 = Conv2D(64, (3, 3), activation='relu', padding='same')\n",
    "drop2 = Dropout(0.25)\n",
    "pool2 = MaxPooling2D(pool_size=(2, 2))\n",
    "conv3_1 = Conv2D(128, (3, 3), activation='relu', padding='same')\n",
    "conv3_2 = Conv2D(128, (3, 3), activation='relu', padding='same')\n",
    "drop3 = Dropout(0.25)\n",
    "pool3 = MaxPooling2D(pool_size=(2, 2))\n",
    "flat = Flatten()\n",
    "dens = Dense(256, activation='relu')\n",
    "\n",
    "def conv_siamese_net(inputs):\n",
    "\n",
    "    x = conv1_1(inputs)\n",
    "    x = conv1_2(x)\n",
    "    x = drop1(x)\n",
    "    x = pool1(x)\n",
    "    x = conv2_1(x)\n",
    "    x = conv2_2(x)\n",
    "    x = drop2(x)\n",
    "    x = pool2(x)\n",
    "    x = conv3_1(x)\n",
    "    x = conv3_2(x)\n",
    "    x = drop3(x)\n",
    "    x = pool3(x)\n",
    "    x = flat(x)\n",
    "    outputs = dens(x)\n",
    "    return outputs"
   ]
  },
  {
   "cell_type": "code",
   "execution_count": 7,
   "metadata": {
    "collapsed": true
   },
   "outputs": [],
   "source": [
    "def concat(input1, input2):\n",
    "\n",
    "    x1 = Concatenate()([input1, input2])\n",
    "    t1 = Subtract()([input1, input2])\n",
    "    t1 = Multiply()([t1, t1])\n",
    "    t2 = Multiply()([input1, input2])\n",
    "    x2 = Concatenate()([t1, t2])\n",
    "    outputs = Concatenate()([x1, x2])\n",
    "    return outputs"
   ]
  },
  {
   "cell_type": "code",
   "execution_count": 8,
   "metadata": {
    "collapsed": true
   },
   "outputs": [],
   "source": [
    "def fully_connected(inputs):\n",
    "\n",
    "    x = Dropout(0.5)(inputs)\n",
    "    x = Dense(512, activation='relu')(x)\n",
    "    x = Dropout(0.5)(x)\n",
    "    outputs = Dense(2, activation='softmax')(x)\n",
    "    return outputs"
   ]
  },
  {
   "cell_type": "code",
   "execution_count": 9,
   "metadata": {},
   "outputs": [
    {
     "name": "stdout",
     "output_type": "stream",
     "text": [
      "(2400, 2, 64, 64, 1)\n",
      "(2400, 2)\n",
      "(796, 2, 64, 64, 1)\n",
      "(796, 2)\n"
     ]
    }
   ],
   "source": [
    "(X, Y), (x, y) = load_data()\n",
    "Px, Py = make_pairs(X, Y)\n",
    "px, py = make_pairs(x, y)\n",
    "\n",
    "print(Px.shape)\n",
    "print(Py.shape)\n",
    "print(px.shape)\n",
    "print(py.shape)\n",
    "\n",
    "input_shape = (2, img_size_final, img_size_final, 1)"
   ]
  },
  {
   "cell_type": "code",
   "execution_count": 10,
   "metadata": {},
   "outputs": [
    {
     "name": "stdout",
     "output_type": "stream",
     "text": [
      "____________________________________________________________________________________________________\n",
      "Layer (type)                     Output Shape          Param #     Connected to                     \n",
      "====================================================================================================\n",
      "input_1 (InputLayer)             (None, 2, 64, 64, 1)  0                                            \n",
      "____________________________________________________________________________________________________\n",
      "lambda_1 (Lambda)                (None, 64, 64, 1)     0           input_1[0][0]                    \n",
      "____________________________________________________________________________________________________\n",
      "lambda_2 (Lambda)                (None, 64, 64, 1)     0           input_1[0][0]                    \n",
      "____________________________________________________________________________________________________\n",
      "conv2d_1 (Conv2D)                (None, 64, 64, 32)    320         lambda_1[0][0]                   \n",
      "                                                                   lambda_2[0][0]                   \n",
      "____________________________________________________________________________________________________\n",
      "conv2d_2 (Conv2D)                (None, 64, 64, 32)    9248        conv2d_1[0][0]                   \n",
      "                                                                   conv2d_1[1][0]                   \n",
      "____________________________________________________________________________________________________\n",
      "dropout_1 (Dropout)              (None, 64, 64, 32)    0           conv2d_2[0][0]                   \n",
      "                                                                   conv2d_2[1][0]                   \n",
      "____________________________________________________________________________________________________\n",
      "max_pooling2d_1 (MaxPooling2D)   (None, 32, 32, 32)    0           dropout_1[0][0]                  \n",
      "                                                                   dropout_1[1][0]                  \n",
      "____________________________________________________________________________________________________\n",
      "conv2d_3 (Conv2D)                (None, 32, 32, 64)    18496       max_pooling2d_1[0][0]            \n",
      "                                                                   max_pooling2d_1[1][0]            \n",
      "____________________________________________________________________________________________________\n",
      "conv2d_4 (Conv2D)                (None, 32, 32, 64)    36928       conv2d_3[0][0]                   \n",
      "                                                                   conv2d_3[1][0]                   \n",
      "____________________________________________________________________________________________________\n",
      "dropout_2 (Dropout)              (None, 32, 32, 64)    0           conv2d_4[0][0]                   \n",
      "                                                                   conv2d_4[1][0]                   \n",
      "____________________________________________________________________________________________________\n",
      "max_pooling2d_2 (MaxPooling2D)   (None, 16, 16, 64)    0           dropout_2[0][0]                  \n",
      "                                                                   dropout_2[1][0]                  \n",
      "____________________________________________________________________________________________________\n",
      "conv2d_5 (Conv2D)                (None, 16, 16, 128)   73856       max_pooling2d_2[0][0]            \n",
      "                                                                   max_pooling2d_2[1][0]            \n",
      "____________________________________________________________________________________________________\n",
      "conv2d_6 (Conv2D)                (None, 16, 16, 128)   147584      conv2d_5[0][0]                   \n",
      "                                                                   conv2d_5[1][0]                   \n",
      "____________________________________________________________________________________________________\n",
      "dropout_3 (Dropout)              (None, 16, 16, 128)   0           conv2d_6[0][0]                   \n",
      "                                                                   conv2d_6[1][0]                   \n",
      "____________________________________________________________________________________________________\n",
      "max_pooling2d_3 (MaxPooling2D)   (None, 8, 8, 128)     0           dropout_3[0][0]                  \n",
      "                                                                   dropout_3[1][0]                  \n",
      "____________________________________________________________________________________________________\n",
      "flatten_1 (Flatten)              (None, 8192)          0           max_pooling2d_3[0][0]            \n",
      "                                                                   max_pooling2d_3[1][0]            \n",
      "____________________________________________________________________________________________________\n",
      "dense_1 (Dense)                  (None, 256)           2097408     flatten_1[0][0]                  \n",
      "                                                                   flatten_1[1][0]                  \n",
      "____________________________________________________________________________________________________\n",
      "subtract_1 (Subtract)            (None, 256)           0           dense_1[0][0]                    \n",
      "                                                                   dense_1[1][0]                    \n",
      "____________________________________________________________________________________________________\n",
      "multiply_1 (Multiply)            (None, 256)           0           subtract_1[0][0]                 \n",
      "                                                                   subtract_1[0][0]                 \n",
      "____________________________________________________________________________________________________\n",
      "multiply_2 (Multiply)            (None, 256)           0           dense_1[0][0]                    \n",
      "                                                                   dense_1[1][0]                    \n",
      "____________________________________________________________________________________________________\n",
      "concatenate_1 (Concatenate)      (None, 512)           0           dense_1[0][0]                    \n",
      "                                                                   dense_1[1][0]                    \n",
      "____________________________________________________________________________________________________\n",
      "concatenate_2 (Concatenate)      (None, 512)           0           multiply_1[0][0]                 \n",
      "                                                                   multiply_2[0][0]                 \n",
      "____________________________________________________________________________________________________\n",
      "concatenate_3 (Concatenate)      (None, 1024)          0           concatenate_1[0][0]              \n",
      "                                                                   concatenate_2[0][0]              \n",
      "____________________________________________________________________________________________________\n",
      "dropout_4 (Dropout)              (None, 1024)          0           concatenate_3[0][0]              \n",
      "____________________________________________________________________________________________________\n",
      "dense_2 (Dense)                  (None, 512)           524800      dropout_4[0][0]                  \n",
      "____________________________________________________________________________________________________\n",
      "dropout_5 (Dropout)              (None, 512)           0           dense_2[0][0]                    \n",
      "____________________________________________________________________________________________________\n",
      "dense_3 (Dense)                  (None, 2)             1026        dropout_5[0][0]                  \n",
      "====================================================================================================\n",
      "Total params: 2,909,666\n",
      "Trainable params: 2,909,666\n",
      "Non-trainable params: 0\n",
      "____________________________________________________________________________________________________\n"
     ]
    }
   ],
   "source": [
    "inputs = Input(shape=input_shape)\n",
    "x1, x2 = split_input(inputs)\n",
    "x1 = conv_siamese_net(x1)\n",
    "x2 = conv_siamese_net(x2)\n",
    "x = concat(x1, x2)\n",
    "outputs = fully_connected(x)\n",
    "\n",
    "model = Model(inputs=inputs, outputs=outputs)\n",
    "model.summary()"
   ]
  },
  {
   "cell_type": "code",
   "execution_count": 11,
   "metadata": {
    "collapsed": true
   },
   "outputs": [],
   "source": [
    "model.compile(optimizer='adam', loss='binary_crossentropy', metrics=['accuracy'])"
   ]
  },
  {
   "cell_type": "code",
   "execution_count": 12,
   "metadata": {},
   "outputs": [
    {
     "name": "stdout",
     "output_type": "stream",
     "text": [
      "Train on 2400 samples, validate on 796 samples\n",
      "Epoch 1/20\n",
      "2400/2400 [==============================] - 32s - loss: 0.6320 - acc: 0.6400 - val_loss: 0.5514 - val_acc: 0.7136\n",
      "Epoch 2/20\n",
      "2400/2400 [==============================] - 31s - loss: 0.5303 - acc: 0.7329 - val_loss: 0.5272 - val_acc: 0.7726\n",
      "Epoch 3/20\n",
      "2400/2400 [==============================] - 30s - loss: 0.4930 - acc: 0.7775 - val_loss: 0.4729 - val_acc: 0.7889\n",
      "Epoch 4/20\n",
      "2400/2400 [==============================] - 30s - loss: 0.4296 - acc: 0.8200 - val_loss: 0.5236 - val_acc: 0.8103\n",
      "Epoch 5/20\n",
      "2400/2400 [==============================] - 30s - loss: 0.3396 - acc: 0.8546 - val_loss: 0.3967 - val_acc: 0.8216\n",
      "Epoch 6/20\n",
      "2400/2400 [==============================] - 30s - loss: 0.2855 - acc: 0.8787 - val_loss: 0.3759 - val_acc: 0.8417\n",
      "Epoch 7/20\n",
      "2400/2400 [==============================] - 30s - loss: 0.2191 - acc: 0.9096 - val_loss: 0.5775 - val_acc: 0.7952\n",
      "Epoch 8/20\n",
      "2400/2400 [==============================] - 30s - loss: 0.2122 - acc: 0.9204 - val_loss: 0.2845 - val_acc: 0.8794\n",
      "Epoch 9/20\n",
      "2400/2400 [==============================] - 30s - loss: 0.1345 - acc: 0.9521 - val_loss: 0.2814 - val_acc: 0.8744\n",
      "Epoch 10/20\n",
      "2400/2400 [==============================] - 30s - loss: 0.1687 - acc: 0.9421 - val_loss: 0.3697 - val_acc: 0.8417\n",
      "Epoch 11/20\n",
      "2400/2400 [==============================] - 29s - loss: 0.1079 - acc: 0.9696 - val_loss: 0.2106 - val_acc: 0.9095\n",
      "Epoch 12/20\n",
      "2400/2400 [==============================] - 30s - loss: 0.0650 - acc: 0.9808 - val_loss: 0.2315 - val_acc: 0.9158\n",
      "Epoch 13/20\n",
      "2400/2400 [==============================] - 30s - loss: 0.0499 - acc: 0.9850 - val_loss: 0.2500 - val_acc: 0.9171\n",
      "Epoch 14/20\n",
      "2400/2400 [==============================] - 29s - loss: 0.0542 - acc: 0.9842 - val_loss: 0.4066 - val_acc: 0.8894\n",
      "Epoch 15/20\n",
      "2400/2400 [==============================] - 29s - loss: 0.0549 - acc: 0.9854 - val_loss: 0.3380 - val_acc: 0.8920\n",
      "Epoch 16/20\n",
      "2400/2400 [==============================] - 29s - loss: 0.0692 - acc: 0.9825 - val_loss: 0.6331 - val_acc: 0.8229\n",
      "Epoch 17/20\n",
      "2400/2400 [==============================] - 29s - loss: 0.0898 - acc: 0.9683 - val_loss: 0.1904 - val_acc: 0.9209\n",
      "Epoch 18/20\n",
      "2400/2400 [==============================] - 29s - loss: 0.0576 - acc: 0.9854 - val_loss: 0.1663 - val_acc: 0.9259\n",
      "Epoch 19/20\n",
      "2400/2400 [==============================] - 29s - loss: 0.0296 - acc: 0.9917 - val_loss: 0.2518 - val_acc: 0.9095\n",
      "Epoch 20/20\n",
      "2400/2400 [==============================] - 29s - loss: 0.0289 - acc: 0.9937 - val_loss: 0.2161 - val_acc: 0.9259\n"
     ]
    }
   ],
   "source": [
    "hist = model.fit(Px, Py, batch_size=20, epochs=20, verbose=1, validation_data=(px, py))"
   ]
  },
  {
   "cell_type": "code",
   "execution_count": 13,
   "metadata": {},
   "outputs": [
    {
     "name": "stdout",
     "output_type": "stream",
     "text": [
      "Validation Loss :  0.216097809592\n",
      "Validation Accuracy :  0.925879397584\n"
     ]
    }
   ],
   "source": [
    "score = model.evaluate(px, py, verbose=0)\n",
    "print('Validation Loss : ', score[0])\n",
    "print('Validation Accuracy : ', score[1])"
   ]
  },
  {
   "cell_type": "code",
   "execution_count": 14,
   "metadata": {},
   "outputs": [
    {
     "data": {
      "image/png": "[encoded data removed]",
      "text/plain": [
       "<matplotlib.figure.Figure at 0x7f4981f3bd68>"
      ]
     },
     "metadata": {},
     "output_type": "display_data"
    }
   ],
   "source": [
    "for key in hist.history.keys():\n",
    "    plt.plot(hist.history[key])\n",
    "plt.show()"
   ]
  }
 ],
 "metadata": {
  "kernelspec": {
   "display_name": "Python 3.5 (Experimental) with Spark 2.1",
   "language": "python",
   "name": "python3-spark21"
  },
  "language_info": {
   "codemirror_mode": {
    "name": "ipython",
    "version": 3
   },
   "file_extension": ".py",
   "mimetype": "text/x-python",
   "name": "python",
   "nbconvert_exporter": "python",
   "pygments_lexer": "ipython3",
   "version": "3.5.2"
  }
 },
 "nbformat": 4,
 "nbformat_minor": 1
}
