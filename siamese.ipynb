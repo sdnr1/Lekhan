{
 "cells": [
  {
   "cell_type": "code",
   "execution_count": 1,
   "metadata": {},
   "outputs": [
    {
     "name": "stderr",
     "output_type": "stream",
     "text": [
      "Using TensorFlow backend.\n"
     ]
    }
   ],
   "source": [
    "import numpy as np\n",
    "from keras.models import Model\n",
    "from keras.layers import Activation, Dense, Conv2D, MaxPooling2D, Flatten, Dropout, Lambda, Input, Concatenate, Multiply, Subtract\n",
    "from keras.regularizers import l2\n",
    "from keras.utils import np_utils"
   ]
  },
  {
   "cell_type": "code",
   "execution_count": 2,
   "metadata": {
    "collapsed": true
   },
   "outputs": [],
   "source": [
    "num_classes = 4\n",
    "img_size = 250\n",
    "img_size_final = 50"
   ]
  },
  {
   "cell_type": "code",
   "execution_count": 10,
   "metadata": {
    "collapsed": true
   },
   "outputs": [],
   "source": [
    "def load_data():\n",
    "    \n",
    "    X = np.load('Lekhan/X_train.npy')\n",
    "    Y = np.load('Lekhan/Y_train.npy')\n",
    "    x = np.load('Lekhan/X_test.npy')\n",
    "    y = np.load('Lekhan/Y_test.npy')\n",
    "    X = X.reshape(X.shape[0], img_size, img_size, 1).astype('float32')\n",
    "    x = x.reshape(x.shape[0], img_size, img_size, 1).astype('float32')\n",
    "    X_mean = X.mean()\n",
    "    X = (X - X_mean) / 127\n",
    "    x = (x - X_mean) / 127\n",
    "    Y = np_utils.to_categorical(Y, num_classes)\n",
    "    y = np_utils.to_categorical(y, num_classes)\n",
    "    X = X[:, :img_size_final, :img_size_final, :]\n",
    "    x = x[:, :img_size_final, :img_size_final, :]\n",
    "    return (X, Y), (x, y)"
   ]
  },
  {
   "cell_type": "code",
   "execution_count": 4,
   "metadata": {
    "collapsed": true
   },
   "outputs": [],
   "source": [
    "def make_pairs(X, Y):\n",
    "\n",
    "    rx = []\n",
    "    ry = []\n",
    "    p = [[], [], [], []]\n",
    "    for c in range(num_classes):\n",
    "        for i in range(X.shape[0]):\n",
    "            if Y[i][c] == 1:\n",
    "                p[c].append(X[i])\n",
    "        a = np.array(p[c] + p[c])\n",
    "        b = a[np.random.permutation(range(a.shape[0]))]\n",
    "        for i in range(a.shape[0]):\n",
    "            rx.append([a[i], b[i]])\n",
    "            ry.append([0, 1])\n",
    "    sz = (2 * len(ry)) // (num_classes * (num_classes - 1))\n",
    "    for i in range(num_classes):\n",
    "        for j in range(i):\n",
    "            a = np.array(p[i] + p[i])\n",
    "            a = a[np.random.permutation(range(a.shape[0]))]\n",
    "            b = np.array(p[j] + p[j])\n",
    "            b = b[np.random.permutation(range(b.shape[0]))]\n",
    "            for k in range(sz):\n",
    "                rx.append([a[k], b[k]])\n",
    "                ry.append([1, 0])\n",
    "    return np.array(rx), np.array(ry)"
   ]
  },
  {
   "cell_type": "code",
   "execution_count": 5,
   "metadata": {
    "collapsed": true
   },
   "outputs": [],
   "source": [
    "def split_input(inputs):\n",
    "\n",
    "    output1 = Lambda(lambda x : x[:, 0, :, :, :])(inputs)\n",
    "    output2 = Lambda(lambda x : x[:, 1, :, :, :])(inputs)\n",
    "    return output1, output2"
   ]
  },
  {
   "cell_type": "code",
   "execution_count": 16,
   "metadata": {
    "collapsed": true
   },
   "outputs": [],
   "source": [
    "conv1_1 = Conv2D(64, (3, 3), activation='relu', padding='same')\n",
    "conv1_2 = Conv2D(64, (3, 3), activation='relu', padding='same')\n",
    "pool1 = MaxPooling2D(pool_size=(2, 2))\n",
    "conv2_1 = Conv2D(128, (3, 3), activation='relu', padding='same')\n",
    "conv2_2 = Conv2D(128, (3, 3), activation='relu', padding='same')\n",
    "pool2 = MaxPooling2D(pool_size=(2, 2))\n",
    "drop = Dropout(0.25)\n",
    "flat = Flatten()\n",
    "dens = Dense(256, activation='relu')\n",
    "\n",
    "def conv_siamese_net(inputs):\n",
    "\n",
    "    x = conv1_1(inputs)\n",
    "    x = conv1_2(x)\n",
    "    x = pool1(x)\n",
    "    x = conv2_1(x)\n",
    "    x = conv2_2(x)\n",
    "    x = pool2(x)\n",
    "    x = flat(x)\n",
    "    outputs = dens(x)\n",
    "    return outputs"
   ]
  },
  {
   "cell_type": "code",
   "execution_count": 17,
   "metadata": {
    "collapsed": true
   },
   "outputs": [],
   "source": [
    "def concat(input1, input2):\n",
    "\n",
    "    x1 = Concatenate()([input1, input2])\n",
    "    t1 = Subtract()([input1, input2])\n",
    "    t1 = Multiply()([t1, t1])\n",
    "    t2 = Multiply()([input1, input2])\n",
    "    x2 = Concatenate()([t1, t2])\n",
    "    outputs = Concatenate()([x1, x2])\n",
    "    return outputs"
   ]
  },
  {
   "cell_type": "code",
   "execution_count": 18,
   "metadata": {
    "collapsed": true
   },
   "outputs": [],
   "source": [
    "def fully_connected(inputs):\n",
    "\n",
    "    x = Dropout(0.5)(inputs)\n",
    "    x = Dense(512, activation='relu')(x)\n",
    "    x = Dropout(0.5)(x)\n",
    "    outputs = Dense(2, activation='softmax')(x)\n",
    "    return outputs"
   ]
  },
  {
   "cell_type": "code",
   "execution_count": 19,
   "metadata": {},
   "outputs": [
    {
     "name": "stdout",
     "output_type": "stream",
     "text": [
      "(2400, 2, 50, 50, 1)\n",
      "(2400, 2)\n",
      "(796, 2, 50, 50, 1)\n",
      "(796, 2)\n"
     ]
    }
   ],
   "source": [
    "(X, Y), (x, y) = load_data()\n",
    "Px, Py = make_pairs(X, Y)\n",
    "px, py = make_pairs(x, y)\n",
    "\n",
    "print(Px.shape)\n",
    "print(Py.shape)\n",
    "print(px.shape)\n",
    "print(py.shape)\n",
    "\n",
    "input_shape = (2, img_size_final, img_size_final, 1)"
   ]
  },
  {
   "cell_type": "code",
   "execution_count": 20,
   "metadata": {},
   "outputs": [
    {
     "name": "stdout",
     "output_type": "stream",
     "text": [
      "____________________________________________________________________________________________________\n",
      "Layer (type)                     Output Shape          Param #     Connected to                     \n",
      "====================================================================================================\n",
      "input_2 (InputLayer)             (None, 2, 50, 50, 1)  0                                            \n",
      "____________________________________________________________________________________________________\n",
      "lambda_3 (Lambda)                (None, 50, 50, 1)     0           input_2[0][0]                    \n",
      "____________________________________________________________________________________________________\n",
      "lambda_4 (Lambda)                (None, 50, 50, 1)     0           input_2[0][0]                    \n",
      "____________________________________________________________________________________________________\n",
      "conv2d_5 (Conv2D)                (None, 50, 50, 64)    640         lambda_3[0][0]                   \n",
      "                                                                   lambda_4[0][0]                   \n",
      "____________________________________________________________________________________________________\n",
      "conv2d_6 (Conv2D)                (None, 50, 50, 64)    36928       conv2d_5[0][0]                   \n",
      "                                                                   conv2d_5[1][0]                   \n",
      "____________________________________________________________________________________________________\n",
      "max_pooling2d_3 (MaxPooling2D)   (None, 25, 25, 64)    0           conv2d_6[0][0]                   \n",
      "                                                                   conv2d_6[1][0]                   \n",
      "____________________________________________________________________________________________________\n",
      "conv2d_7 (Conv2D)                (None, 25, 25, 128)   73856       max_pooling2d_3[0][0]            \n",
      "                                                                   max_pooling2d_3[1][0]            \n",
      "____________________________________________________________________________________________________\n",
      "conv2d_8 (Conv2D)                (None, 25, 25, 128)   147584      conv2d_7[0][0]                   \n",
      "                                                                   conv2d_7[1][0]                   \n",
      "____________________________________________________________________________________________________\n",
      "max_pooling2d_4 (MaxPooling2D)   (None, 12, 12, 128)   0           conv2d_8[0][0]                   \n",
      "                                                                   conv2d_8[1][0]                   \n",
      "____________________________________________________________________________________________________\n",
      "flatten_2 (Flatten)              (None, 18432)         0           max_pooling2d_4[0][0]            \n",
      "                                                                   max_pooling2d_4[1][0]            \n",
      "____________________________________________________________________________________________________\n",
      "dense_4 (Dense)                  (None, 256)           4718848     flatten_2[0][0]                  \n",
      "                                                                   flatten_2[1][0]                  \n",
      "____________________________________________________________________________________________________\n",
      "subtract_2 (Subtract)            (None, 256)           0           dense_4[0][0]                    \n",
      "                                                                   dense_4[1][0]                    \n",
      "____________________________________________________________________________________________________\n",
      "multiply_3 (Multiply)            (None, 256)           0           subtract_2[0][0]                 \n",
      "                                                                   subtract_2[0][0]                 \n",
      "____________________________________________________________________________________________________\n",
      "multiply_4 (Multiply)            (None, 256)           0           dense_4[0][0]                    \n",
      "                                                                   dense_4[1][0]                    \n",
      "____________________________________________________________________________________________________\n",
      "concatenate_4 (Concatenate)      (None, 512)           0           dense_4[0][0]                    \n",
      "                                                                   dense_4[1][0]                    \n",
      "____________________________________________________________________________________________________\n",
      "concatenate_5 (Concatenate)      (None, 512)           0           multiply_3[0][0]                 \n",
      "                                                                   multiply_4[0][0]                 \n",
      "____________________________________________________________________________________________________\n",
      "concatenate_6 (Concatenate)      (None, 1024)          0           concatenate_4[0][0]              \n",
      "                                                                   concatenate_5[0][0]              \n",
      "____________________________________________________________________________________________________\n",
      "dropout_3 (Dropout)              (None, 1024)          0           concatenate_6[0][0]              \n",
      "____________________________________________________________________________________________________\n",
      "dense_5 (Dense)                  (None, 512)           524800      dropout_3[0][0]                  \n",
      "____________________________________________________________________________________________________\n",
      "dropout_4 (Dropout)              (None, 512)           0           dense_5[0][0]                    \n",
      "____________________________________________________________________________________________________\n",
      "dense_6 (Dense)                  (None, 2)             1026        dropout_4[0][0]                  \n",
      "====================================================================================================\n",
      "Total params: 5,503,682\n",
      "Trainable params: 5,503,682\n",
      "Non-trainable params: 0\n",
      "____________________________________________________________________________________________________\n"
     ]
    }
   ],
   "source": [
    "inputs = Input(shape=input_shape)\n",
    "x1, x2 = split_input(inputs)\n",
    "x1 = conv_siamese_net(x1)\n",
    "x2 = conv_siamese_net(x2)\n",
    "x = concat(x1, x2)\n",
    "outputs = fully_connected(x)\n",
    "\n",
    "model = Model(inputs=inputs, outputs=outputs)\n",
    "model.summary()"
   ]
  },
  {
   "cell_type": "code",
   "execution_count": 21,
   "metadata": {
    "collapsed": true
   },
   "outputs": [],
   "source": [
    "model.compile(optimizer='adam', loss='binary_crossentropy', metrics=['accuracy'])"
   ]
  },
  {
   "cell_type": "code",
   "execution_count": 22,
   "metadata": {},
   "outputs": [
    {
     "name": "stdout",
     "output_type": "stream",
     "text": [
      "Train on 2400 samples, validate on 796 samples\n",
      "Epoch 1/10\n",
      "2400/2400 [==============================] - 38s - loss: 0.6317 - acc: 0.6508 - val_loss: 0.5520 - val_acc: 0.7023\n",
      "Epoch 2/10\n",
      "2400/2400 [==============================] - 37s - loss: 0.5259 - acc: 0.7346 - val_loss: 0.5517 - val_acc: 0.7186\n",
      "Epoch 3/10\n",
      "2400/2400 [==============================] - 37s - loss: 0.4608 - acc: 0.7788 - val_loss: 0.4996 - val_acc: 0.7789\n",
      "Epoch 4/10\n",
      "2400/2400 [==============================] - 37s - loss: 0.3759 - acc: 0.8300 - val_loss: 0.5071 - val_acc: 0.7789\n",
      "Epoch 5/10\n",
      "2400/2400 [==============================] - 37s - loss: 0.3142 - acc: 0.8750 - val_loss: 0.5341 - val_acc: 0.7889\n",
      "Epoch 6/10\n",
      "2400/2400 [==============================] - 37s - loss: 0.2619 - acc: 0.9000 - val_loss: 0.5578 - val_acc: 0.7977\n",
      "Epoch 7/10\n",
      "2400/2400 [==============================] - 37s - loss: 0.2141 - acc: 0.9217 - val_loss: 0.4912 - val_acc: 0.8417\n",
      "Epoch 8/10\n",
      "2400/2400 [==============================] - 37s - loss: 0.1089 - acc: 0.9633 - val_loss: 0.5152 - val_acc: 0.8593\n",
      "Epoch 9/10\n",
      "2400/2400 [==============================] - 37s - loss: 0.0719 - acc: 0.9767 - val_loss: 0.5841 - val_acc: 0.8593\n",
      "Epoch 10/10\n",
      "2400/2400 [==============================] - 37s - loss: 0.0708 - acc: 0.9787 - val_loss: 0.5472 - val_acc: 0.8606\n"
     ]
    },
    {
     "data": {
      "text/plain": [
       "<keras.callbacks.History at 0x7ff4efe38470>"
      ]
     },
     "execution_count": 22,
     "metadata": {},
     "output_type": "execute_result"
    }
   ],
   "source": [
    "model.fit(Px, Py, batch_size=20, epochs=10, verbose=1, validation_data=(px, py))"
   ]
  },
  {
   "cell_type": "code",
   "execution_count": 23,
   "metadata": {},
   "outputs": [
    {
     "name": "stdout",
     "output_type": "stream",
     "text": [
      "Validation Loss :  0.547183154815\n",
      "Validation Accuracy :  0.86055276352\n"
     ]
    }
   ],
   "source": [
    "score = model.evaluate(px, py, verbose=0)\n",
    "print('Validation Loss : ', score[0])\n",
    "print('Validation Accuracy : ', score[1])"
   ]
  },
  {
   "cell_type": "code",
   "execution_count": null,
   "metadata": {
    "collapsed": true
   },
   "outputs": [],
   "source": []
  }
 ],
 "metadata": {
  "kernelspec": {
   "display_name": "Python 3.5 (Experimental) with Spark 2.1",
   "language": "python",
   "name": "python3-spark21"
  },
  "language_info": {
   "codemirror_mode": {
    "name": "ipython",
    "version": 3
   },
   "file_extension": ".py",
   "mimetype": "text/x-python",
   "name": "python",
   "nbconvert_exporter": "python",
   "pygments_lexer": "ipython3",
   "version": "3.5.2"
  }
 },
 "nbformat": 4,
 "nbformat_minor": 1
}
